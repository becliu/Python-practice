{
 "cells": [
  {
   "cell_type": "markdown",
   "id": "11713c3e",
   "metadata": {},
   "source": [
    "## 1. Number"
   ]
  },
  {
   "cell_type": "markdown",
   "id": "65763688",
   "metadata": {},
   "source": [
    "“Mod” Operator"
   ]
  },
  {
   "cell_type": "code",
   "execution_count": 4,
   "id": "99b6fe8e",
   "metadata": {},
   "outputs": [
    {
     "data": {
      "text/plain": [
       "3"
      ]
     },
     "execution_count": 4,
     "metadata": {},
     "output_type": "execute_result"
    }
   ],
   "source": [
    "7%4"
   ]
  },
  {
   "cell_type": "code",
   "execution_count": 5,
   "id": "ddcb1f1d",
   "metadata": {},
   "outputs": [
    {
     "data": {
      "text/plain": [
       "0"
      ]
     },
     "execution_count": 5,
     "metadata": {},
     "output_type": "execute_result"
    }
   ],
   "source": [
    "50%5"
   ]
  },
  {
   "cell_type": "code",
   "execution_count": 6,
   "id": "f5308319",
   "metadata": {},
   "outputs": [
    {
     "data": {
      "text/plain": [
       "1"
      ]
     },
     "execution_count": 6,
     "metadata": {},
     "output_type": "execute_result"
    }
   ],
   "source": [
    "23%2"
   ]
  },
  {
   "cell_type": "markdown",
   "id": "387c3768",
   "metadata": {},
   "source": [
    "Power"
   ]
  },
  {
   "cell_type": "code",
   "execution_count": 7,
   "id": "60f35e9f",
   "metadata": {},
   "outputs": [
    {
     "data": {
      "text/plain": [
       "8"
      ]
     },
     "execution_count": 7,
     "metadata": {},
     "output_type": "execute_result"
    }
   ],
   "source": [
    "2 ** 3"
   ]
  },
  {
   "cell_type": "markdown",
   "id": "81537f14",
   "metadata": {},
   "source": [
    "Check \"type\" because Python variable type is not static"
   ]
  },
  {
   "cell_type": "code",
   "execution_count": 8,
   "id": "ac62052b",
   "metadata": {},
   "outputs": [
    {
     "data": {
      "text/plain": [
       "float"
      ]
     },
     "execution_count": 8,
     "metadata": {},
     "output_type": "execute_result"
    }
   ],
   "source": [
    "a = 20.3\n",
    "\n",
    "type(a)"
   ]
  },
  {
   "cell_type": "markdown",
   "id": "26a51534",
   "metadata": {},
   "source": [
    "## 2. String"
   ]
  },
  {
   "cell_type": "code",
   "execution_count": 9,
   "id": "f4d9ef30",
   "metadata": {},
   "outputs": [
    {
     "name": "stdout",
     "output_type": "stream",
     "text": [
      "hello\n"
     ]
    }
   ],
   "source": [
    "print(\"hello\")"
   ]
  },
  {
   "cell_type": "code",
   "execution_count": 12,
   "id": "dd102934",
   "metadata": {},
   "outputs": [
    {
     "name": "stdout",
     "output_type": "stream",
     "text": [
      "hello \n",
      " world\n"
     ]
    }
   ],
   "source": [
    "print('hello \\n world') # \\n start a new line"
   ]
  },
  {
   "cell_type": "code",
   "execution_count": 11,
   "id": "5788ea88",
   "metadata": {},
   "outputs": [
    {
     "name": "stdout",
     "output_type": "stream",
     "text": [
      "hello \t world\n"
     ]
    }
   ],
   "source": [
    "print('hello \\t world') # \\t tab"
   ]
  },
  {
   "cell_type": "code",
   "execution_count": 13,
   "id": "6593facb",
   "metadata": {},
   "outputs": [
    {
     "data": {
      "text/plain": [
       "4"
      ]
     },
     "execution_count": 13,
     "metadata": {},
     "output_type": "execute_result"
    }
   ],
   "source": [
    "len('I am') # space counted as well"
   ]
  },
  {
   "cell_type": "markdown",
   "id": "b0e5ff44",
   "metadata": {},
   "source": [
    "### 2.1 String Indexing"
   ]
  },
  {
   "cell_type": "code",
   "execution_count": 14,
   "id": "a6293453",
   "metadata": {},
   "outputs": [
    {
     "data": {
      "text/plain": [
       "'r'"
      ]
     },
     "execution_count": 14,
     "metadata": {},
     "output_type": "execute_result"
    }
   ],
   "source": [
    "mystring = 'hello world'\n",
    "mystring[8]"
   ]
  },
  {
   "cell_type": "code",
   "execution_count": 15,
   "id": "84875d88",
   "metadata": {},
   "outputs": [
    {
     "data": {
      "text/plain": [
       "'r'"
      ]
     },
     "execution_count": 15,
     "metadata": {},
     "output_type": "execute_result"
    }
   ],
   "source": [
    "mystring[-3]  # -1 to grad the last letter of the string"
   ]
  },
  {
   "cell_type": "code",
   "execution_count": 16,
   "id": "70206c1e",
   "metadata": {},
   "outputs": [
    {
     "data": {
      "text/plain": [
       "'llo world'"
      ]
     },
     "execution_count": 16,
     "metadata": {},
     "output_type": "execute_result"
    }
   ],
   "source": [
    "mystring[2:] # start from number 2 position but including it"
   ]
  },
  {
   "cell_type": "code",
   "execution_count": 17,
   "id": "dbbda04c",
   "metadata": {},
   "outputs": [
    {
     "data": {
      "text/plain": [
       "'he'"
      ]
     },
     "execution_count": 17,
     "metadata": {},
     "output_type": "execute_result"
    }
   ],
   "source": [
    "mystring[:2] # go up to number 2 position but not including it"
   ]
  },
  {
   "cell_type": "code",
   "execution_count": 19,
   "id": "2a882f07",
   "metadata": {},
   "outputs": [
    {
     "data": {
      "text/plain": [
       "'llo'"
      ]
     },
     "execution_count": 19,
     "metadata": {},
     "output_type": "execute_result"
    }
   ],
   "source": [
    "mystring[2:5]"
   ]
  },
  {
   "cell_type": "code",
   "execution_count": 20,
   "id": "7a235242",
   "metadata": {},
   "outputs": [
    {
     "data": {
      "text/plain": [
       "'hlowrd'"
      ]
     },
     "execution_count": 20,
     "metadata": {},
     "output_type": "execute_result"
    }
   ],
   "source": [
    "mystring[::2] # from position 0 to the last position, with a step size of 2"
   ]
  },
  {
   "cell_type": "code",
   "execution_count": 21,
   "id": "64ec9dd9",
   "metadata": {},
   "outputs": [
    {
     "data": {
      "text/plain": [
       "'dlrow olleh'"
      ]
     },
     "execution_count": 21,
     "metadata": {},
     "output_type": "execute_result"
    }
   ],
   "source": [
    "mystring[::-1] # reverse a string"
   ]
  },
  {
   "cell_type": "code",
   "execution_count": 22,
   "id": "6c1caa25",
   "metadata": {},
   "outputs": [
    {
     "data": {
      "text/plain": [
       "'d'"
      ]
     },
     "execution_count": 22,
     "metadata": {},
     "output_type": "execute_result"
    }
   ],
   "source": [
    "'hello world'[-1] # you can just use the string it sell with indexing"
   ]
  },
  {
   "cell_type": "markdown",
   "id": "162ce41d",
   "metadata": {},
   "source": [
    "### 2.2 String immutability"
   ]
  },
  {
   "cell_type": "markdown",
   "id": "88b118c6",
   "metadata": {},
   "source": [
    "(strings are not mutable, meaning you can't use indexing to change individual elements of a string)"
   ]
  },
  {
   "cell_type": "code",
   "execution_count": 23,
   "id": "83bed19e",
   "metadata": {},
   "outputs": [],
   "source": [
    "x = 'hello'"
   ]
  },
  {
   "cell_type": "code",
   "execution_count": 24,
   "id": "e5839937",
   "metadata": {},
   "outputs": [
    {
     "data": {
      "text/plain": [
       "'hello you are beautiful'"
      ]
     },
     "execution_count": 24,
     "metadata": {},
     "output_type": "execute_result"
    }
   ],
   "source": [
    "x + ' you are beautiful' # string concatenation"
   ]
  },
  {
   "cell_type": "code",
   "execution_count": 25,
   "id": "bb77fbeb",
   "metadata": {},
   "outputs": [],
   "source": [
    "letter = 'z'"
   ]
  },
  {
   "cell_type": "code",
   "execution_count": 26,
   "id": "e426fb64",
   "metadata": {},
   "outputs": [
    {
     "data": {
      "text/plain": [
       "'zzzzzzzzzz'"
      ]
     },
     "execution_count": 26,
     "metadata": {},
     "output_type": "execute_result"
    }
   ],
   "source": [
    "letter * 10"
   ]
  },
  {
   "cell_type": "code",
   "execution_count": 27,
   "id": "958ad4c8",
   "metadata": {},
   "outputs": [
    {
     "data": {
      "text/plain": [
       "5"
      ]
     },
     "execution_count": 27,
     "metadata": {},
     "output_type": "execute_result"
    }
   ],
   "source": [
    "2+3"
   ]
  },
  {
   "cell_type": "code",
   "execution_count": 28,
   "id": "b7275212",
   "metadata": {},
   "outputs": [
    {
     "data": {
      "text/plain": [
       "'23'"
      ]
     },
     "execution_count": 28,
     "metadata": {},
     "output_type": "execute_result"
    }
   ],
   "source": [
    "'2' + '3' # pay attention to the type"
   ]
  },
  {
   "cell_type": "code",
   "execution_count": 29,
   "id": "2f421677",
   "metadata": {},
   "outputs": [],
   "source": [
    "x = 'hello world'"
   ]
  },
  {
   "cell_type": "code",
   "execution_count": 30,
   "id": "5198642d",
   "metadata": {},
   "outputs": [
    {
     "data": {
      "text/plain": [
       "'HELLO WORLD'"
      ]
     },
     "execution_count": 30,
     "metadata": {},
     "output_type": "execute_result"
    }
   ],
   "source": [
    "x.upper()  # type x. then tab, you'll have the list of built in functions  # also, don't miss the () that execute it"
   ]
  },
  {
   "cell_type": "code",
   "execution_count": 31,
   "id": "b92ade29",
   "metadata": {},
   "outputs": [
    {
     "data": {
      "text/plain": [
       "['hello', 'world']"
      ]
     },
     "execution_count": 31,
     "metadata": {},
     "output_type": "execute_result"
    }
   ],
   "source": [
    "x.split() # it still split the string based on the blank space, and remove the space used as the splitter"
   ]
  },
  {
   "cell_type": "code",
   "execution_count": 33,
   "id": "fba27bc3",
   "metadata": {},
   "outputs": [
    {
     "data": {
      "text/plain": [
       "['th', 's ', 's a str', 'ng']"
      ]
     },
     "execution_count": 33,
     "metadata": {},
     "output_type": "execute_result"
    }
   ],
   "source": [
    "x = 'this is a string'\n",
    "x.split('i')  # can also split by the 'i', and 'i' gets removed in the mean time"
   ]
  },
  {
   "cell_type": "markdown",
   "id": "60b840bb",
   "metadata": {},
   "source": [
    "### 2.3 String printing formating"
   ]
  },
  {
   "cell_type": "markdown",
   "id": "d0d7517d",
   "metadata": {},
   "source": [
    "'String here {} then also {}'.format('something1', 'somthing2')"
   ]
  },
  {
   "cell_type": "code",
   "execution_count": 34,
   "id": "c31a1730",
   "metadata": {},
   "outputs": [
    {
     "name": "stdout",
     "output_type": "stream",
     "text": [
      "This is a string inserted\n"
     ]
    }
   ],
   "source": [
    "print('This is a string {}'.format('inserted'))"
   ]
  },
  {
   "cell_type": "code",
   "execution_count": 36,
   "id": "c58a9c9d",
   "metadata": {},
   "outputs": [
    {
     "name": "stdout",
     "output_type": "stream",
     "text": [
      "the fox br qu\n"
     ]
    }
   ],
   "source": [
    "print('the {} {} {}'.format('fox','br','qu'))"
   ]
  },
  {
   "cell_type": "code",
   "execution_count": 37,
   "id": "b6b4c4b6",
   "metadata": {},
   "outputs": [
    {
     "name": "stdout",
     "output_type": "stream",
     "text": [
      "the qu br fox\n"
     ]
    }
   ],
   "source": [
    "print('the {2} {1} {0}'.format('fox','br','qu')) # you can assign the position"
   ]
  },
  {
   "cell_type": "code",
   "execution_count": 38,
   "id": "965c5b83",
   "metadata": {},
   "outputs": [
    {
     "name": "stdout",
     "output_type": "stream",
     "text": [
      "the qu qu\n"
     ]
    }
   ],
   "source": [
    "print('the {2} {2}'.format('fox','br','qu')) "
   ]
  },
  {
   "cell_type": "code",
   "execution_count": 40,
   "id": "54e73654",
   "metadata": {},
   "outputs": [
    {
     "name": "stdout",
     "output_type": "stream",
     "text": [
      "the fox br qu\n"
     ]
    }
   ],
   "source": [
    "print('the {f} {b} {q}'.format(f='fox',b='br',q='qu'))"
   ]
  },
  {
   "cell_type": "code",
   "execution_count": 41,
   "id": "0b0d5954",
   "metadata": {},
   "outputs": [
    {
     "name": "stdout",
     "output_type": "stream",
     "text": [
      "the fox fox\n"
     ]
    }
   ],
   "source": [
    "print('the {f} {f}'.format(f='fox',b='br'))"
   ]
  },
  {
   "cell_type": "markdown",
   "id": "f4e0e94e",
   "metadata": {},
   "source": [
    "### 2.4 float formatting"
   ]
  },
  {
   "cell_type": "markdown",
   "id": "35748ab7",
   "metadata": {},
   "source": [
    "\"{value:width.precision f}\"  -> there's no space between precision and f"
   ]
  },
  {
   "cell_type": "code",
   "execution_count": 43,
   "id": "7cfa68f5",
   "metadata": {},
   "outputs": [],
   "source": [
    "result = 103.235432"
   ]
  },
  {
   "cell_type": "code",
   "execution_count": 47,
   "id": "74229450",
   "metadata": {},
   "outputs": [
    {
     "name": "stdout",
     "output_type": "stream",
     "text": [
      "the result is 103.235\n"
     ]
    }
   ],
   "source": [
    "print('the result is {r:1.3f}'.format(r = result)) \n",
    "# the width is just how long this printed float is, usualy we just have it as 1"
   ]
  },
  {
   "cell_type": "markdown",
   "id": "d4dad027",
   "metadata": {},
   "source": [
    "f string"
   ]
  },
  {
   "cell_type": "code",
   "execution_count": 48,
   "id": "bec46e8e",
   "metadata": {},
   "outputs": [],
   "source": [
    "name = 'bei'"
   ]
  },
  {
   "cell_type": "code",
   "execution_count": 49,
   "id": "74f9a622",
   "metadata": {},
   "outputs": [
    {
     "name": "stdout",
     "output_type": "stream",
     "text": [
      "hello his name is bei\n"
     ]
    }
   ],
   "source": [
    "print(f'hello his name is {name}')"
   ]
  },
  {
   "cell_type": "code",
   "execution_count": 50,
   "id": "fc944dd2",
   "metadata": {},
   "outputs": [],
   "source": [
    "age = 3"
   ]
  },
  {
   "cell_type": "code",
   "execution_count": 51,
   "id": "59ad6d9d",
   "metadata": {},
   "outputs": [
    {
     "name": "stdout",
     "output_type": "stream",
     "text": [
      "bei is 3 years old\n"
     ]
    }
   ],
   "source": [
    "print(f'{name} is {age} years old')"
   ]
  },
  {
   "cell_type": "markdown",
   "id": "c20fd548",
   "metadata": {},
   "source": [
    "\"result:{value:{width}.{precision}}\""
   ]
  },
  {
   "cell_type": "code",
   "execution_count": 53,
   "id": "812b5380",
   "metadata": {},
   "outputs": [
    {
     "name": "stdout",
     "output_type": "stream",
     "text": [
      "my 10 character, four decimal number is:   24.3352\n"
     ]
    }
   ],
   "source": [
    "num = 24.3352\n",
    "print(f\"my 10 character, four decimal number is:{num:{10}.{6}}\")"
   ]
  },
  {
   "cell_type": "markdown",
   "id": "14fcd560",
   "metadata": {},
   "source": [
    "## 3. Lists"
   ]
  },
  {
   "cell_type": "markdown",
   "id": "456bd79d",
   "metadata": {},
   "source": [
    "Lists can contain any types of items in it. When it's an integer or float, don't use quote, ot it will become a string"
   ]
  },
  {
   "cell_type": "code",
   "execution_count": 88,
   "id": "9fafd655",
   "metadata": {},
   "outputs": [
    {
     "data": {
      "text/plain": [
       "[\"it's a string\", 1, 93.2]"
      ]
     },
     "execution_count": 88,
     "metadata": {},
     "output_type": "execute_result"
    }
   ],
   "source": [
    "[\"it's a string\",1, 93.2]"
   ]
  },
  {
   "cell_type": "code",
   "execution_count": 54,
   "id": "55ed353f",
   "metadata": {},
   "outputs": [],
   "source": [
    "mylist = ['one','two','three']"
   ]
  },
  {
   "cell_type": "code",
   "execution_count": 55,
   "id": "fec5da74",
   "metadata": {},
   "outputs": [
    {
     "data": {
      "text/plain": [
       "'one'"
      ]
     },
     "execution_count": 55,
     "metadata": {},
     "output_type": "execute_result"
    }
   ],
   "source": [
    "mylist[0]"
   ]
  },
  {
   "cell_type": "code",
   "execution_count": 56,
   "id": "bf054d8a",
   "metadata": {},
   "outputs": [
    {
     "data": {
      "text/plain": [
       "['two', 'three']"
      ]
     },
     "execution_count": 56,
     "metadata": {},
     "output_type": "execute_result"
    }
   ],
   "source": [
    "mylist[1:] # indexing of list is the same as indexing the string"
   ]
  },
  {
   "cell_type": "code",
   "execution_count": 57,
   "id": "45537d33",
   "metadata": {},
   "outputs": [],
   "source": [
    "another_list = ['four','five']"
   ]
  },
  {
   "cell_type": "code",
   "execution_count": 58,
   "id": "dbd39d70",
   "metadata": {},
   "outputs": [
    {
     "data": {
      "text/plain": [
       "['one', 'two', 'three', 'four', 'five']"
      ]
     },
     "execution_count": 58,
     "metadata": {},
     "output_type": "execute_result"
    }
   ],
   "source": [
    "mylist + another_list # concatenate to a new list"
   ]
  },
  {
   "cell_type": "code",
   "execution_count": 60,
   "id": "b2dbf729",
   "metadata": {},
   "outputs": [],
   "source": [
    "mylist[0] = 'ONE ALL CAPS' # list is different from string here, can change it by its position"
   ]
  },
  {
   "cell_type": "code",
   "execution_count": 61,
   "id": "fd1bc222",
   "metadata": {},
   "outputs": [
    {
     "data": {
      "text/plain": [
       "['ONE ALL CAPS', 'two', 'three']"
      ]
     },
     "execution_count": 61,
     "metadata": {},
     "output_type": "execute_result"
    }
   ],
   "source": [
    "mylist"
   ]
  },
  {
   "cell_type": "markdown",
   "id": "631e517f",
   "metadata": {},
   "source": [
    ".append()"
   ]
  },
  {
   "cell_type": "code",
   "execution_count": 63,
   "id": "d47dc574",
   "metadata": {},
   "outputs": [
    {
     "data": {
      "text/plain": [
       "['ONE ALL CAPS', 'two', 'three', 'six', 'six']"
      ]
     },
     "execution_count": 63,
     "metadata": {},
     "output_type": "execute_result"
    }
   ],
   "source": [
    "mylist.append('six')  # mylist. and then tab, you'll have a list of built-in function, and append() is one of them\n",
    "mylist"
   ]
  },
  {
   "cell_type": "code",
   "execution_count": 64,
   "id": "b7112add",
   "metadata": {},
   "outputs": [
    {
     "data": {
      "text/plain": [
       "'six'"
      ]
     },
     "execution_count": 64,
     "metadata": {},
     "output_type": "execute_result"
    }
   ],
   "source": [
    "mylist.pop() # pop off (drop) the last item in the list, and also print it here"
   ]
  },
  {
   "cell_type": "code",
   "execution_count": 65,
   "id": "95adb64d",
   "metadata": {},
   "outputs": [
    {
     "data": {
      "text/plain": [
       "['ONE ALL CAPS', 'two', 'three', 'six']"
      ]
     },
     "execution_count": 65,
     "metadata": {},
     "output_type": "execute_result"
    }
   ],
   "source": [
    "mylist"
   ]
  },
  {
   "cell_type": "markdown",
   "id": "c6d99a72",
   "metadata": {},
   "source": [
    ".pop()"
   ]
  },
  {
   "cell_type": "code",
   "execution_count": 66,
   "id": "88579796",
   "metadata": {},
   "outputs": [],
   "source": [
    "popped_item = mylist.pop()"
   ]
  },
  {
   "cell_type": "code",
   "execution_count": 67,
   "id": "67860568",
   "metadata": {},
   "outputs": [
    {
     "data": {
      "text/plain": [
       "'six'"
      ]
     },
     "execution_count": 67,
     "metadata": {},
     "output_type": "execute_result"
    }
   ],
   "source": [
    "popped_item"
   ]
  },
  {
   "cell_type": "code",
   "execution_count": 69,
   "id": "4d8266ad",
   "metadata": {},
   "outputs": [
    {
     "data": {
      "text/plain": [
       "'two'"
      ]
     },
     "execution_count": 69,
     "metadata": {},
     "output_type": "execute_result"
    }
   ],
   "source": [
    "mylist.pop(0)  # can assign the position to pop off (drop)"
   ]
  },
  {
   "cell_type": "code",
   "execution_count": 70,
   "id": "3bd3b347",
   "metadata": {},
   "outputs": [
    {
     "data": {
      "text/plain": [
       "['three']"
      ]
     },
     "execution_count": 70,
     "metadata": {},
     "output_type": "execute_result"
    }
   ],
   "source": [
    "mylist"
   ]
  },
  {
   "cell_type": "code",
   "execution_count": 74,
   "id": "504575e0",
   "metadata": {},
   "outputs": [],
   "source": [
    "new_list = ['a','e','x','k','m']"
   ]
  },
  {
   "cell_type": "code",
   "execution_count": 84,
   "id": "87922f76",
   "metadata": {},
   "outputs": [],
   "source": [
    "num_list = [3,2,0,6]"
   ]
  },
  {
   "cell_type": "markdown",
   "id": "7bcf9ae6",
   "metadata": {},
   "source": [
    ".sort()"
   ]
  },
  {
   "cell_type": "code",
   "execution_count": 77,
   "id": "996d055b",
   "metadata": {},
   "outputs": [
    {
     "data": {
      "text/plain": [
       "['a', 'e', 'k', 'm', 'x']"
      ]
     },
     "execution_count": 77,
     "metadata": {},
     "output_type": "execute_result"
    }
   ],
   "source": [
    "new_list.sort()\n",
    "new_list # sort() already sorted the original list, and it doesn't return a new list that's sorted"
   ]
  },
  {
   "cell_type": "code",
   "execution_count": 78,
   "id": "9785ebeb",
   "metadata": {},
   "outputs": [],
   "source": [
    "catch_new_list = new_list.sort()"
   ]
  },
  {
   "cell_type": "code",
   "execution_count": 79,
   "id": "664b4d1d",
   "metadata": {},
   "outputs": [],
   "source": [
    "catch_new_list"
   ]
  },
  {
   "cell_type": "code",
   "execution_count": 80,
   "id": "cab05182",
   "metadata": {},
   "outputs": [
    {
     "data": {
      "text/plain": [
       "NoneType"
      ]
     },
     "execution_count": 80,
     "metadata": {},
     "output_type": "execute_result"
    }
   ],
   "source": [
    "type(catch_new_list) # see it's none now"
   ]
  },
  {
   "cell_type": "markdown",
   "id": "a5233e11",
   "metadata": {},
   "source": [
    ".reverse()"
   ]
  },
  {
   "cell_type": "code",
   "execution_count": 86,
   "id": "e9dc8c63",
   "metadata": {},
   "outputs": [],
   "source": [
    "num_list.reverse() # reverse the sequence"
   ]
  },
  {
   "cell_type": "code",
   "execution_count": 87,
   "id": "271d506c",
   "metadata": {},
   "outputs": [
    {
     "data": {
      "text/plain": [
       "[6, 0, 2, 3]"
      ]
     },
     "execution_count": 87,
     "metadata": {},
     "output_type": "execute_result"
    }
   ],
   "source": [
    "num_list"
   ]
  },
  {
   "cell_type": "markdown",
   "id": "7ec57064",
   "metadata": {},
   "source": [
    "## 4. Dictionary"
   ]
  },
  {
   "cell_type": "markdown",
   "id": "3248868e",
   "metadata": {},
   "source": [
    "Dictionary doesn't retain order. check out ordereddict object if needed it."
   ]
  },
  {
   "cell_type": "code",
   "execution_count": null,
   "id": "76ee544a",
   "metadata": {},
   "outputs": [],
   "source": [
    "prices_lookup = {'apple':2.99, 'orange':3, 'milk':1.9}"
   ]
  },
  {
   "cell_type": "markdown",
   "id": "570991e0",
   "metadata": {},
   "source": [
    "indexing"
   ]
  },
  {
   "cell_type": "code",
   "execution_count": 90,
   "id": "a6781a2b",
   "metadata": {},
   "outputs": [
    {
     "data": {
      "text/plain": [
       "3"
      ]
     },
     "execution_count": 90,
     "metadata": {},
     "output_type": "execute_result"
    }
   ],
   "source": [
    "prices_lookup['orange']"
   ]
  },
  {
   "cell_type": "code",
   "execution_count": 91,
   "id": "b570aad6",
   "metadata": {},
   "outputs": [],
   "source": [
    "d = {'k1':123, 'k2':[0,1,2],'k3':{'insidekey':100}}"
   ]
  },
  {
   "cell_type": "code",
   "execution_count": 92,
   "id": "3ef55ce3",
   "metadata": {},
   "outputs": [
    {
     "data": {
      "text/plain": [
       "{'insidekey': 100}"
      ]
     },
     "execution_count": 92,
     "metadata": {},
     "output_type": "execute_result"
    }
   ],
   "source": [
    "d['k3']"
   ]
  },
  {
   "cell_type": "markdown",
   "id": "869fdf8f",
   "metadata": {},
   "source": [
    "call a nested dictionary value"
   ]
  },
  {
   "cell_type": "code",
   "execution_count": 93,
   "id": "be94d4f7",
   "metadata": {},
   "outputs": [
    {
     "data": {
      "text/plain": [
       "100"
      ]
     },
     "execution_count": 93,
     "metadata": {},
     "output_type": "execute_result"
    }
   ],
   "source": [
    "d['k3']['insidekey']"
   ]
  },
  {
   "cell_type": "code",
   "execution_count": 95,
   "id": "0077026c",
   "metadata": {},
   "outputs": [
    {
     "data": {
      "text/plain": [
       "2"
      ]
     },
     "execution_count": 95,
     "metadata": {},
     "output_type": "execute_result"
    }
   ],
   "source": [
    "d['k2'][2] # the value that's in the index / position #2"
   ]
  },
  {
   "cell_type": "code",
   "execution_count": 97,
   "id": "546f55b3",
   "metadata": {},
   "outputs": [],
   "source": [
    "d2 = {'k2':[0,3,'e']}"
   ]
  },
  {
   "cell_type": "code",
   "execution_count": 98,
   "id": "e5b75729",
   "metadata": {},
   "outputs": [
    {
     "data": {
      "text/plain": [
       "'E'"
      ]
     },
     "execution_count": 98,
     "metadata": {},
     "output_type": "execute_result"
    }
   ],
   "source": [
    "d2['k2'][2].upper() # three things happened, and the last one is just using upper() for list"
   ]
  },
  {
   "cell_type": "markdown",
   "id": "0d08223f",
   "metadata": {},
   "source": [
    "add a new key-value pair"
   ]
  },
  {
   "cell_type": "code",
   "execution_count": 99,
   "id": "3ca94599",
   "metadata": {},
   "outputs": [],
   "source": [
    "d3 = {'k1': 100, 'k2': 200}"
   ]
  },
  {
   "cell_type": "code",
   "execution_count": 100,
   "id": "d6c87f01",
   "metadata": {},
   "outputs": [],
   "source": [
    "d3['k3'] = 300 # this is how to add a new key-value pair into an existing dictionary"
   ]
  },
  {
   "cell_type": "code",
   "execution_count": 101,
   "id": "9cb84275",
   "metadata": {},
   "outputs": [
    {
     "data": {
      "text/plain": [
       "{'k1': 100, 'k2': 200, 'k3': 300}"
      ]
     },
     "execution_count": 101,
     "metadata": {},
     "output_type": "execute_result"
    }
   ],
   "source": [
    "d3"
   ]
  },
  {
   "cell_type": "markdown",
   "id": "0df72fe2",
   "metadata": {},
   "source": [
    "overwrite the value"
   ]
  },
  {
   "cell_type": "code",
   "execution_count": 102,
   "id": "a804b21a",
   "metadata": {},
   "outputs": [],
   "source": [
    "d3['k1'] = 'NEW VALUE' # overwrite to a new value of a key-value pair"
   ]
  },
  {
   "cell_type": "code",
   "execution_count": 103,
   "id": "cf0c8a09",
   "metadata": {},
   "outputs": [
    {
     "data": {
      "text/plain": [
       "{'k1': 'NEW VALUE', 'k2': 200, 'k3': 300}"
      ]
     },
     "execution_count": 103,
     "metadata": {},
     "output_type": "execute_result"
    }
   ],
   "source": [
    "d3"
   ]
  },
  {
   "cell_type": "markdown",
   "id": "35eac4cb",
   "metadata": {},
   "source": [
    "call the keys()   values()     items()"
   ]
  },
  {
   "cell_type": "code",
   "execution_count": 104,
   "id": "1768b4aa",
   "metadata": {},
   "outputs": [
    {
     "data": {
      "text/plain": [
       "dict_keys(['k1', 'k2', 'k3'])"
      ]
     },
     "execution_count": 104,
     "metadata": {},
     "output_type": "execute_result"
    }
   ],
   "source": [
    "d3.keys()"
   ]
  },
  {
   "cell_type": "code",
   "execution_count": 105,
   "id": "a8c5ce85",
   "metadata": {},
   "outputs": [
    {
     "data": {
      "text/plain": [
       "dict_values(['NEW VALUE', 200, 300])"
      ]
     },
     "execution_count": 105,
     "metadata": {},
     "output_type": "execute_result"
    }
   ],
   "source": [
    "d3.values()"
   ]
  },
  {
   "cell_type": "code",
   "execution_count": 106,
   "id": "f5e9f84e",
   "metadata": {},
   "outputs": [
    {
     "data": {
      "text/plain": [
       "dict_items([('k1', 'NEW VALUE'), ('k2', 200), ('k3', 300)])"
      ]
     },
     "execution_count": 106,
     "metadata": {},
     "output_type": "execute_result"
    }
   ],
   "source": [
    "d3.items()"
   ]
  },
  {
   "cell_type": "code",
   "execution_count": 107,
   "id": "dcc29997",
   "metadata": {},
   "outputs": [
    {
     "data": {
      "text/plain": [
       "{'k1': 'NEW VALUE', 'k2': 200, 'k3': 300}"
      ]
     },
     "execution_count": 107,
     "metadata": {},
     "output_type": "execute_result"
    }
   ],
   "source": [
    "d3"
   ]
  },
  {
   "cell_type": "markdown",
   "id": "d5c85314",
   "metadata": {},
   "source": [
    "## 5. Tuples"
   ]
  },
  {
   "cell_type": "code",
   "execution_count": 109,
   "id": "e8f083d7",
   "metadata": {},
   "outputs": [],
   "source": [
    "t = (1,2,3)"
   ]
  },
  {
   "cell_type": "code",
   "execution_count": 110,
   "id": "71cef76a",
   "metadata": {},
   "outputs": [
    {
     "data": {
      "text/plain": [
       "tuple"
      ]
     },
     "execution_count": 110,
     "metadata": {},
     "output_type": "execute_result"
    }
   ],
   "source": [
    "type(t)"
   ]
  },
  {
   "cell_type": "code",
   "execution_count": 111,
   "id": "41360cc8",
   "metadata": {},
   "outputs": [],
   "source": [
    "t = ('one',1,3.45) # tuple can have mixed element type"
   ]
  },
  {
   "cell_type": "code",
   "execution_count": 123,
   "id": "2badea1f",
   "metadata": {},
   "outputs": [],
   "source": [
    "t = (1,2,[3,4]) # this is a tuple too"
   ]
  },
  {
   "cell_type": "code",
   "execution_count": 112,
   "id": "87eb93ab",
   "metadata": {},
   "outputs": [
    {
     "data": {
      "text/plain": [
       "'one'"
      ]
     },
     "execution_count": 112,
     "metadata": {},
     "output_type": "execute_result"
    }
   ],
   "source": [
    "t[0]"
   ]
  },
  {
   "cell_type": "code",
   "execution_count": 113,
   "id": "bb7253e5",
   "metadata": {},
   "outputs": [
    {
     "data": {
      "text/plain": [
       "3.45"
      ]
     },
     "execution_count": 113,
     "metadata": {},
     "output_type": "execute_result"
    }
   ],
   "source": [
    "t[-1]"
   ]
  },
  {
   "cell_type": "code",
   "execution_count": 115,
   "id": "c4865461",
   "metadata": {},
   "outputs": [],
   "source": [
    "t = ('a','a','c')"
   ]
  },
  {
   "cell_type": "code",
   "execution_count": 116,
   "id": "0c3146bf",
   "metadata": {},
   "outputs": [
    {
     "data": {
      "text/plain": [
       "2"
      ]
     },
     "execution_count": 116,
     "metadata": {},
     "output_type": "execute_result"
    }
   ],
   "source": [
    "t.count('a') # count how many 'a' in the tuple"
   ]
  },
  {
   "cell_type": "code",
   "execution_count": 117,
   "id": "e5add951",
   "metadata": {},
   "outputs": [
    {
     "data": {
      "text/plain": [
       "2"
      ]
     },
     "execution_count": 117,
     "metadata": {},
     "output_type": "execute_result"
    }
   ],
   "source": [
    "t.index('c') # return the first position that 'c' showed up"
   ]
  },
  {
   "cell_type": "markdown",
   "id": "b5aa5888",
   "metadata": {},
   "source": [
    "immutable, not like list, you can't change element position in tuple. this is the only difference between string vs. tuple. "
   ]
  },
  {
   "cell_type": "code",
   "execution_count": 119,
   "id": "31906a75",
   "metadata": {},
   "outputs": [],
   "source": [
    "t = (1,2,3)"
   ]
  },
  {
   "cell_type": "code",
   "execution_count": 118,
   "id": "f72ad1ef",
   "metadata": {},
   "outputs": [],
   "source": [
    "mylist = [1,2,3]"
   ]
  },
  {
   "cell_type": "code",
   "execution_count": 120,
   "id": "93b32987",
   "metadata": {},
   "outputs": [],
   "source": [
    "mylist[0] = 'new'"
   ]
  },
  {
   "cell_type": "code",
   "execution_count": 121,
   "id": "8a4fd7ae",
   "metadata": {},
   "outputs": [
    {
     "data": {
      "text/plain": [
       "['new', 2, 3]"
      ]
     },
     "execution_count": 121,
     "metadata": {},
     "output_type": "execute_result"
    }
   ],
   "source": [
    "mylist"
   ]
  },
  {
   "cell_type": "code",
   "execution_count": 125,
   "id": "921377a0",
   "metadata": {},
   "outputs": [
    {
     "ename": "TypeError",
     "evalue": "'tuple' object does not support item assignment",
     "output_type": "error",
     "traceback": [
      "\u001b[0;31m---------------------------------------------------------------------------\u001b[0m",
      "\u001b[0;31mTypeError\u001b[0m                                 Traceback (most recent call last)",
      "\u001b[0;32m<ipython-input-125-2332a71282a0>\u001b[0m in \u001b[0;36m<module>\u001b[0;34m\u001b[0m\n\u001b[0;32m----> 1\u001b[0;31m \u001b[0mt\u001b[0m\u001b[0;34m[\u001b[0m\u001b[0;36m0\u001b[0m\u001b[0;34m]\u001b[0m \u001b[0;34m=\u001b[0m \u001b[0;34m'new'\u001b[0m \u001b[0;31m# this returns an error because tupel is immutable\u001b[0m\u001b[0;34m\u001b[0m\u001b[0m\n\u001b[0m",
      "\u001b[0;31mTypeError\u001b[0m: 'tuple' object does not support item assignment"
     ]
    }
   ],
   "source": [
    "t[0] = 'new' # this returns an error because tupel is immutable"
   ]
  },
  {
   "cell_type": "markdown",
   "id": "bdf4a1d6",
   "metadata": {},
   "source": [
    "## 6. sets"
   ]
  },
  {
   "cell_type": "markdown",
   "id": "349ef5e2",
   "metadata": {},
   "source": [
    "un-ordered, unique"
   ]
  },
  {
   "cell_type": "code",
   "execution_count": 127,
   "id": "d7b1bd80",
   "metadata": {},
   "outputs": [],
   "source": [
    "myset = set()"
   ]
  },
  {
   "cell_type": "code",
   "execution_count": 149,
   "id": "0451603f",
   "metadata": {},
   "outputs": [],
   "source": [
    "myset.add(1) # for set, this is how to add an element, not append() "
   ]
  },
  {
   "cell_type": "code",
   "execution_count": 129,
   "id": "664e9ddb",
   "metadata": {},
   "outputs": [
    {
     "data": {
      "text/plain": [
       "{1}"
      ]
     },
     "execution_count": 129,
     "metadata": {},
     "output_type": "execute_result"
    }
   ],
   "source": [
    "myset"
   ]
  },
  {
   "cell_type": "code",
   "execution_count": 130,
   "id": "7adee683",
   "metadata": {},
   "outputs": [],
   "source": [
    "myset.add(2)"
   ]
  },
  {
   "cell_type": "code",
   "execution_count": 131,
   "id": "47255ee7",
   "metadata": {},
   "outputs": [
    {
     "data": {
      "text/plain": [
       "{1, 2}"
      ]
     },
     "execution_count": 131,
     "metadata": {},
     "output_type": "execute_result"
    }
   ],
   "source": [
    "myset"
   ]
  },
  {
   "cell_type": "code",
   "execution_count": 134,
   "id": "faee4173",
   "metadata": {},
   "outputs": [],
   "source": [
    "myset.add(2) # can't add another \"2\" since set is unique"
   ]
  },
  {
   "cell_type": "code",
   "execution_count": 135,
   "id": "d06110e8",
   "metadata": {},
   "outputs": [
    {
     "data": {
      "text/plain": [
       "{1, 2}"
      ]
     },
     "execution_count": 135,
     "metadata": {},
     "output_type": "execute_result"
    }
   ],
   "source": [
    "myset"
   ]
  },
  {
   "cell_type": "code",
   "execution_count": 136,
   "id": "39daf42f",
   "metadata": {},
   "outputs": [],
   "source": [
    "mylist = [1,2,1,2,1,1,2,2,3]"
   ]
  },
  {
   "cell_type": "code",
   "execution_count": 150,
   "id": "b02c0049",
   "metadata": {},
   "outputs": [
    {
     "data": {
      "text/plain": [
       "{1, 2, 3}"
      ]
     },
     "execution_count": 150,
     "metadata": {},
     "output_type": "execute_result"
    }
   ],
   "source": [
    "set(mylist)"
   ]
  },
  {
   "cell_type": "code",
   "execution_count": 151,
   "id": "4bfe8f9f",
   "metadata": {},
   "outputs": [
    {
     "data": {
      "text/plain": [
       "{1, 2, 4}"
      ]
     },
     "execution_count": 151,
     "metadata": {},
     "output_type": "execute_result"
    }
   ],
   "source": [
    "set([1,1,2,4,2]) # set takes the unique elements of a list"
   ]
  },
  {
   "cell_type": "markdown",
   "id": "5fa6d3f2",
   "metadata": {},
   "source": [
    "## 7. boolean"
   ]
  },
  {
   "cell_type": "code",
   "execution_count": 138,
   "id": "9c5cecb4",
   "metadata": {},
   "outputs": [
    {
     "data": {
      "text/plain": [
       "True"
      ]
     },
     "execution_count": 138,
     "metadata": {},
     "output_type": "execute_result"
    }
   ],
   "source": [
    "True"
   ]
  },
  {
   "cell_type": "code",
   "execution_count": 140,
   "id": "125b65df",
   "metadata": {},
   "outputs": [
    {
     "ename": "NameError",
     "evalue": "name 'true' is not defined",
     "output_type": "error",
     "traceback": [
      "\u001b[0;31m---------------------------------------------------------------------------\u001b[0m",
      "\u001b[0;31mNameError\u001b[0m                                 Traceback (most recent call last)",
      "\u001b[0;32m<ipython-input-140-1f4d7b823fee>\u001b[0m in \u001b[0;36m<module>\u001b[0;34m\u001b[0m\n\u001b[0;32m----> 1\u001b[0;31m \u001b[0mtrue\u001b[0m   \u001b[0;31m# you need to capitalize T\u001b[0m\u001b[0;34m\u001b[0m\u001b[0m\n\u001b[0m",
      "\u001b[0;31mNameError\u001b[0m: name 'true' is not defined"
     ]
    }
   ],
   "source": [
    "true   # you need to capitalize T"
   ]
  },
  {
   "cell_type": "code",
   "execution_count": 142,
   "id": "36a97c03",
   "metadata": {},
   "outputs": [
    {
     "data": {
      "text/plain": [
       "bool"
      ]
     },
     "execution_count": 142,
     "metadata": {},
     "output_type": "execute_result"
    }
   ],
   "source": [
    "type(False)  # check the type"
   ]
  },
  {
   "cell_type": "code",
   "execution_count": 144,
   "id": "8f1d16b7",
   "metadata": {},
   "outputs": [
    {
     "data": {
      "text/plain": [
       "False"
      ]
     },
     "execution_count": 144,
     "metadata": {},
     "output_type": "execute_result"
    }
   ],
   "source": [
    "1 > 2"
   ]
  },
  {
   "cell_type": "code",
   "execution_count": 145,
   "id": "a4942ec6",
   "metadata": {},
   "outputs": [
    {
     "data": {
      "text/plain": [
       "True"
      ]
     },
     "execution_count": 145,
     "metadata": {},
     "output_type": "execute_result"
    }
   ],
   "source": [
    "1 == 1"
   ]
  },
  {
   "cell_type": "code",
   "execution_count": 148,
   "id": "d3055788",
   "metadata": {},
   "outputs": [],
   "source": [
    "b = None # set b to None so it'a placeholder with a None data type so you don't get an error saying \"b\" is not defined"
   ]
  },
  {
   "cell_type": "code",
   "execution_count": 147,
   "id": "98684b4c",
   "metadata": {},
   "outputs": [],
   "source": [
    "b"
   ]
  }
 ],
 "metadata": {
  "kernelspec": {
   "display_name": "Python 3",
   "language": "python",
   "name": "python3"
  },
  "language_info": {
   "codemirror_mode": {
    "name": "ipython",
    "version": 3
   },
   "file_extension": ".py",
   "mimetype": "text/x-python",
   "name": "python",
   "nbconvert_exporter": "python",
   "pygments_lexer": "ipython3",
   "version": "3.6.3"
  },
  "toc": {
   "nav_menu": {},
   "number_sections": false,
   "sideBar": true,
   "skip_h1_title": false,
   "title_cell": "Table of Contents",
   "title_sidebar": "Contents",
   "toc_cell": false,
   "toc_position": {},
   "toc_section_display": true,
   "toc_window_display": false
  }
 },
 "nbformat": 4,
 "nbformat_minor": 5
}
